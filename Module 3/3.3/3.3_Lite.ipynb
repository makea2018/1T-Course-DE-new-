{
 "cells": [
  {
   "cell_type": "markdown",
   "id": "b1c3e2d0-f583-47a4-bd40-bb2ddf28a9c4",
   "metadata": {},
   "source": [
    "### Импортируем нужные библиотеки"
   ]
  },
  {
   "cell_type": "code",
   "execution_count": 1,
   "id": "2956b5f3",
   "metadata": {},
   "outputs": [],
   "source": [
    "from pyspark.sql import SparkSession\n",
    "from pyspark.sql.types import *\n",
    "from pyspark.sql.functions import *\n",
    "from datetime import datetime"
   ]
  },
  {
   "cell_type": "markdown",
   "id": "b3b24af0-bb0e-47be-8c6c-7fa948bb2346",
   "metadata": {},
   "source": [
    "### Запускаем SparkSession"
   ]
  },
  {
   "cell_type": "code",
   "execution_count": 2,
   "id": "3e94059b",
   "metadata": {},
   "outputs": [],
   "source": [
    "spark = SparkSession.builder.master(\"local\").\\\n",
    "                    appName(\"Data_Engineer 3.3\").\\\n",
    "                    config(\"spark.driver.bindAddress\",\"localhost\").\\\n",
    "                    config(\"spark.ui.port\",\"4040\").\\\n",
    "                    getOrCreate()"
   ]
  },
  {
   "cell_type": "markdown",
   "id": "2a125b26-caf4-4e84-9468-133d31175158",
   "metadata": {},
   "source": [
    "### 3.3 а) - Определяем схему"
   ]
  },
  {
   "cell_type": "code",
   "execution_count": 3,
   "id": "bd14ee18-4492-4145-9a78-16f4f8ebd154",
   "metadata": {},
   "outputs": [],
   "source": [
    "schema = StructType([\n",
    "         StructField(\"id\", IntegerType(), True),\n",
    "         StructField(\"timestamp\", TimestampType(), True),\n",
    "         StructField(\"type\", StringType(), True), # click // scroll // visit // move\n",
    "         StructField(\"page_id\", IntegerType(), True),\n",
    "         StructField(\"tag\", StringType(), True), # policy // sport // medicine\n",
    "         StructField(\"sign\", BooleanType(), True)\n",
    "])"
   ]
  },
  {
   "cell_type": "markdown",
   "id": "52b8f77f-e771-476b-9ea8-309bfa7506b0",
   "metadata": {},
   "source": [
    "### 3.3 c) - Заносим данные"
   ]
  },
  {
   "cell_type": "code",
   "execution_count": 4,
   "id": "0c55b703",
   "metadata": {
    "tags": []
   },
   "outputs": [],
   "source": [
    "data = [\n",
    "  (12345, datetime.strptime('2022-06-10 02:10:12', '%Y-%m-%d %H:%M:%S'), 'click', 111, 'policy', False),\n",
    "  (21445, datetime.strptime('2022-03-13 06:15:28', '%Y-%m-%d %H:%M:%S'), 'scroll', 123, 'sport', True),\n",
    "  (51242, datetime.strptime('2022-05-10 22:22:59', '%Y-%m-%d %H:%M:%S'), 'visit', 456, 'medicine', True),\n",
    "  (68210, datetime.strptime('2021-11-14 15:05:32', '%Y-%m-%d %H:%M:%S'), 'move', 123, 'sport', False),\n",
    "  (79723, datetime.strptime('2022-12-05 11:28:11', '%Y-%m-%d %H:%M:%S'), 'move', 111, 'policy', True),\n",
    "  (12658, datetime.strptime('2021-09-07 23:32:10', '%Y-%m-%d %H:%M:%S'), 'click', 456, 'sport', False),\n",
    "  (95761, datetime.strptime('2022-07-12 04:18:06', '%Y-%m-%d %H:%M:%S'), 'scroll', 111, 'policy', True),\n",
    "  (67882, datetime.strptime('2020-03-19 09:56:03', '%Y-%m-%d %H:%M:%S'), 'move', 123, 'policy', False),\n",
    "  (48636, datetime.strptime('2022-11-22 22:36:28', '%Y-%m-%d %H:%M:%S'), 'click', 123, 'medicine', False),\n",
    "  (69674, datetime.strptime('2020-10-26 01:44:43', '%Y-%m-%d %H:%M:%S'), 'visit', 456, 'policy', True),\n",
    "  (69674, datetime.strptime('2020-10-26 01:58:22', '%Y-%m-%d %H:%M:%S'), 'move', 123, 'policy', True),\n",
    "  (12658, datetime.strptime('2021-09-08 14:21:00', '%Y-%m-%d %H:%M:%S'), 'click', 456, 'sport', False),\n",
    "  (12345, datetime.strptime('2022-12-05 12:11:01', '%Y-%m-%d %H:%M:%S'), 'scroll', 111, 'policy', False),\n",
    "  (12345, datetime.strptime('2022-12-07 23:22:50', '%Y-%m-%d %H:%M:%S'), 'click', 456, 'policy', False),\n",
    "  (95761, datetime.strptime('2022-07-14 06:37:54', '%Y-%m-%d %H:%M:%S'), 'move', 123, 'policy', True),\n",
    "  (12345, datetime.strptime('2022-12-11 09:18:22', '%Y-%m-%d %H:%M:%S'), 'visit', 111, 'policy', False),\n",
    "  (48636, datetime.strptime('2022-11-24 21:55:32', '%Y-%m-%d %H:%M:%S'), 'click', 456, 'medicine', False),\n",
    "  (95761, datetime.strptime('2022-08-22 06:42:38', '%Y-%m-%d %H:%M:%S'), 'move', 123, 'policy', True)\n",
    "]\n",
    "\n",
    "# columns = [\"id\",\"timestamp\",\"type\",\"page_id\",\"tag\",\"sign\"]\n",
    "df = spark.createDataFrame(data = data, schema = schema)"
   ]
  },
  {
   "cell_type": "markdown",
   "id": "76041847-df70-4950-93ab-0247b108c894",
   "metadata": {},
   "source": [
    "### 3.3 b) - Выводим DataFrame df"
   ]
  },
  {
   "cell_type": "code",
   "execution_count": 5,
   "id": "1f1464ec-597e-45ca-8154-53a6a30a54d9",
   "metadata": {},
   "outputs": [
    {
     "name": "stdout",
     "output_type": "stream",
     "text": [
      "+-----+-------------------+------+-------+--------+-----+\n",
      "|   id|          timestamp|  type|page_id|     tag| sign|\n",
      "+-----+-------------------+------+-------+--------+-----+\n",
      "|12345|2022-06-10 02:10:12| click|    111|  policy|false|\n",
      "|21445|2022-03-13 06:15:28|scroll|    123|   sport| true|\n",
      "|51242|2022-05-10 22:22:59| visit|    456|medicine| true|\n",
      "|68210|2021-11-14 15:05:32|  move|    123|   sport|false|\n",
      "|79723|2022-12-05 11:28:11|  move|    111|  policy| true|\n",
      "|12658|2021-09-07 23:32:10| click|    456|   sport|false|\n",
      "|95761|2022-07-12 04:18:06|scroll|    111|  policy| true|\n",
      "|67882|2020-03-19 09:56:03|  move|    123|  policy|false|\n",
      "|48636|2022-11-22 22:36:28| click|    123|medicine|false|\n",
      "|69674|2020-10-26 01:44:43| visit|    456|  policy| true|\n",
      "|69674|2020-10-26 01:58:22|  move|    123|  policy| true|\n",
      "|12658|2021-09-08 14:21:00| click|    456|   sport|false|\n",
      "|12345|2022-12-05 12:11:01|scroll|    111|  policy|false|\n",
      "|12345|2022-12-07 23:22:50| click|    456|  policy|false|\n",
      "|95761|2022-07-14 06:37:54|  move|    123|  policy| true|\n",
      "|12345|2022-12-11 09:18:22| visit|    111|  policy|false|\n",
      "|48636|2022-11-24 21:55:32| click|    456|medicine|false|\n",
      "|95761|2022-08-22 06:42:38|  move|    123|  policy| true|\n",
      "+-----+-------------------+------+-------+--------+-----+\n",
      "\n"
     ]
    }
   ],
   "source": [
    "df.show()"
   ]
  },
  {
   "cell_type": "markdown",
   "id": "f11e9f32-9039-470e-8fea-0cf1c575a0a3",
   "metadata": {},
   "source": [
    "### Проверяем форматы, используемые в схеме"
   ]
  },
  {
   "cell_type": "code",
   "execution_count": 6,
   "id": "38ec059b-9727-4377-ac5e-26aa75e3b8ba",
   "metadata": {},
   "outputs": [
    {
     "name": "stdout",
     "output_type": "stream",
     "text": [
      "root\n",
      " |-- id: integer (nullable = true)\n",
      " |-- timestamp: timestamp (nullable = true)\n",
      " |-- type: string (nullable = true)\n",
      " |-- page_id: integer (nullable = true)\n",
      " |-- tag: string (nullable = true)\n",
      " |-- sign: boolean (nullable = true)\n",
      "\n"
     ]
    }
   ],
   "source": [
    "df.printSchema()"
   ]
  },
  {
   "cell_type": "markdown",
   "id": "db942f84-d59d-4441-935a-1cbcb658b3b6",
   "metadata": {},
   "source": [
    "### 3.3 d)"
   ]
  },
  {
   "cell_type": "markdown",
   "id": "6798472f-7797-44d0-863a-a0321f256ffa",
   "metadata": {},
   "source": [
    "#### Пункт 1 - Вывести топ-5 самых активных посетителей сайта"
   ]
  },
  {
   "cell_type": "code",
   "execution_count": 7,
   "id": "074871cc-9f9a-4f06-a049-d56d51427cd6",
   "metadata": {},
   "outputs": [
    {
     "name": "stdout",
     "output_type": "stream",
     "text": [
      "+-----+-----+\n",
      "|   id|count|\n",
      "+-----+-----+\n",
      "|12345|    4|\n",
      "|95761|    3|\n",
      "|12658|    2|\n",
      "|69674|    2|\n",
      "|48636|    2|\n",
      "+-----+-----+\n",
      "only showing top 5 rows\n",
      "\n"
     ]
    }
   ],
   "source": [
    "d_a_ht = df.groupby('id').count()\n",
    "d_a_result = d_a_ht.orderBy(desc('count')).show(5)"
   ]
  },
  {
   "cell_type": "markdown",
   "id": "5456b7bc-af84-4dff-a398-a0c4c3d6651a",
   "metadata": {},
   "source": [
    "#### Пункт 2 - Посчитать процент посетителей, у которых есть ЛК"
   ]
  },
  {
   "cell_type": "code",
   "execution_count": 8,
   "id": "85593bba-47ca-4e22-a81c-bcdcb8a871e5",
   "metadata": {
    "tags": []
   },
   "outputs": [
    {
     "name": "stdout",
     "output_type": "stream",
     "text": [
      "+-----+-----+\n",
      "| sign|count|\n",
      "+-----+-----+\n",
      "| true|    5|\n",
      "|false|    5|\n",
      "+-----+-----+\n",
      "\n"
     ]
    }
   ],
   "source": [
    "d_b_ht = df.dropDuplicates(['id']).groupby('id', 'sign').count().groupby('sign').count()\n",
    "d_b_ht.show()"
   ]
  },
  {
   "cell_type": "code",
   "execution_count": 9,
   "id": "5682de06-5da9-4d19-80ab-72a8b7f15b16",
   "metadata": {},
   "outputs": [
    {
     "name": "stdout",
     "output_type": "stream",
     "text": [
      "10\n"
     ]
    }
   ],
   "source": [
    "sum_signs = d_b_ht.select(sum('count'))\n",
    "print(sum_signs.head()[0])"
   ]
  },
  {
   "cell_type": "code",
   "execution_count": 10,
   "id": "cbc10259-28f7-4d48-a9ea-ab4082d4d574",
   "metadata": {},
   "outputs": [
    {
     "name": "stdout",
     "output_type": "stream",
     "text": [
      "5\n"
     ]
    }
   ],
   "source": [
    "sum_true = d_b_ht.where('sign == true').select('count')\n",
    "print(sum_true.head()[0])"
   ]
  },
  {
   "cell_type": "code",
   "execution_count": 11,
   "id": "21480f45-e5e1-401a-adb3-1668c69d60a3",
   "metadata": {},
   "outputs": [
    {
     "name": "stdout",
     "output_type": "stream",
     "text": [
      "Процент, у которых есть ЛК: 50.0 %\n"
     ]
    }
   ],
   "source": [
    "print(f\"Процент, у которых есть ЛК: {sum_true.head()[0] / sum_signs.head()[0] * 100} %\")"
   ]
  },
  {
   "cell_type": "markdown",
   "id": "7648fed2-333e-4f1b-81e3-04a4fd8a2ef4",
   "metadata": {},
   "source": [
    "#### Пункт 3 - Вывести топ-5 страниц сайта по показателю общего кол-ва кликов на данной странице"
   ]
  },
  {
   "cell_type": "code",
   "execution_count": 12,
   "id": "17c7bed9-969b-40fe-ba40-4182714aa21b",
   "metadata": {},
   "outputs": [
    {
     "name": "stdout",
     "output_type": "stream",
     "text": [
      "+-------+-----+\n",
      "|page_id|count|\n",
      "+-------+-----+\n",
      "|    456|    4|\n",
      "|    111|    1|\n",
      "|    123|    1|\n",
      "+-------+-----+\n",
      "\n"
     ]
    }
   ],
   "source": [
    "d_c_result = df.where(df['type'] == 'click').groupby('page_id').count().orderBy(desc('count')).show(5)"
   ]
  },
  {
   "cell_type": "markdown",
   "id": "9a774a5c-b4c1-48c9-85ec-b4e4cd1c2f52",
   "metadata": {},
   "source": [
    "#### Пункт 4 - Добавьте столбец к фрейму данных со значением временного диапазона в рамках суток с размером окна – 4 часа(0-4, 4-8, 8-12 и т.д.)"
   ]
  },
  {
   "cell_type": "code",
   "execution_count": 13,
   "id": "ed9b6806-b4bf-4a8b-8737-02c48bd072f3",
   "metadata": {},
   "outputs": [
    {
     "name": "stdout",
     "output_type": "stream",
     "text": [
      "+-----+-------------------+------+-------+--------+-----+--------+\n",
      "|   id|          timestamp|  type|page_id|     tag| sign|interval|\n",
      "+-----+-------------------+------+-------+--------+-----+--------+\n",
      "|12345|2022-06-10 02:10:12| click|    111|  policy|false|   0 - 4|\n",
      "|21445|2022-03-13 06:15:28|scroll|    123|   sport| true|   4 - 8|\n",
      "|51242|2022-05-10 22:22:59| visit|    456|medicine| true| 20 - 24|\n",
      "|68210|2021-11-14 15:05:32|  move|    123|   sport|false| 12 - 16|\n",
      "|79723|2022-12-05 11:28:11|  move|    111|  policy| true|  8 - 12|\n",
      "|12658|2021-09-07 23:32:10| click|    456|   sport|false| 20 - 24|\n",
      "|95761|2022-07-12 04:18:06|scroll|    111|  policy| true|   0 - 4|\n",
      "|67882|2020-03-19 09:56:03|  move|    123|  policy|false|  8 - 12|\n",
      "|48636|2022-11-22 22:36:28| click|    123|medicine|false| 20 - 24|\n",
      "|69674|2020-10-26 01:44:43| visit|    456|  policy| true|   0 - 4|\n",
      "|69674|2020-10-26 01:58:22|  move|    123|  policy| true|   0 - 4|\n",
      "|12658|2021-09-08 14:21:00| click|    456|   sport|false| 12 - 16|\n",
      "|12345|2022-12-05 12:11:01|scroll|    111|  policy|false|  8 - 12|\n",
      "|12345|2022-12-07 23:22:50| click|    456|  policy|false| 20 - 24|\n",
      "|95761|2022-07-14 06:37:54|  move|    123|  policy| true|   4 - 8|\n",
      "|12345|2022-12-11 09:18:22| visit|    111|  policy|false|  8 - 12|\n",
      "|48636|2022-11-24 21:55:32| click|    456|medicine|false| 20 - 24|\n",
      "|95761|2022-08-22 06:42:38|  move|    123|  policy| true|   4 - 8|\n",
      "+-----+-------------------+------+-------+--------+-----+--------+\n",
      "\n"
     ]
    }
   ],
   "source": [
    "df_d_result = df.withColumn('interval', \n",
    "                   when((hour('timestamp') > 0) & (hour('timestamp') <= 4) , '0 - 4')\n",
    "                  .when((hour('timestamp') > 4) & (hour('timestamp') <= 8) , '4 - 8')\n",
    "                  .when((hour('timestamp') > 8) & (hour('timestamp') <= 12) , '8 - 12')\n",
    "                  .when((hour('timestamp') > 12) & (hour('timestamp') <= 16) , '12 - 16')\n",
    "                  .when((hour('timestamp') > 16) & (hour('timestamp') <= 20) , '16 - 20')\n",
    "                  .when((hour('timestamp') > 20) & (hour('timestamp') <= 24) , '20 - 24')\n",
    "                  .otherwise('wrong time type')\n",
    "                           )\n",
    "df_d_result.show()"
   ]
  },
  {
   "cell_type": "markdown",
   "id": "bae7836d-3b1d-4f50-8cdc-78bb8834b68d",
   "metadata": {},
   "source": [
    "#### Пункт 5 - Выведите временной промежуток на основе предыдущего задания, в течение которого было больше всего активностей на сайте."
   ]
  },
  {
   "cell_type": "code",
   "execution_count": 14,
   "id": "5a2676f2-6e37-48b5-b296-21ba8ef3bf2d",
   "metadata": {},
   "outputs": [
    {
     "name": "stdout",
     "output_type": "stream",
     "text": [
      "+--------+\n",
      "|interval|\n",
      "+--------+\n",
      "| 20 - 24|\n",
      "+--------+\n",
      "only showing top 1 row\n",
      "\n"
     ]
    }
   ],
   "source": [
    "df_e_result = df_d_result.groupby('interval').count().orderBy(desc('count')).select('interval').show(1)"
   ]
  },
  {
   "cell_type": "markdown",
   "id": "319e2153-f99a-4458-99f5-711336921647",
   "metadata": {},
   "source": [
    "#### Пункт 6 - Создайте второй фрейм данных, который будет содержать информацию о ЛК посетителя сайта со следующим списком атрибутов:\n",
    "1) Id – уникальный идентификатор личного кабинета\n",
    "2) User_id – уникальный идентификатор посетителя\n",
    "3) ФИО посетителя\n",
    "4) Дату рождения посетителя \n",
    "5) Дата создания ЛК"
   ]
  },
  {
   "cell_type": "markdown",
   "id": "035d5915-f25a-45a9-9fcf-6f5564e11636",
   "metadata": {},
   "source": [
    "#### Создаем схему (Связываю df и df_2 по id пользователей)"
   ]
  },
  {
   "cell_type": "code",
   "execution_count": 15,
   "id": "6834cb57-a9f8-446f-ada5-9b33b08e57fe",
   "metadata": {
    "tags": []
   },
   "outputs": [],
   "source": [
    "schema_2 = StructType([\n",
    "           StructField(\"id_pa\", IntegerType(), True), # id_pa - id personal account\n",
    "           StructField(\"id_user\", IntegerType(), True),\n",
    "           StructField(\"Full_name\", StringType(), True),\n",
    "           StructField(\"dob\", DateType(), True), # dob - date of birth\n",
    "           StructField(\"doc_account\", DateType(), True), # doc_account - date of creation account\n",
    "])"
   ]
  },
  {
   "cell_type": "markdown",
   "id": "2a45be44-cc2c-42df-a461-390462312727",
   "metadata": {},
   "source": [
    "#### Выводим уникальные id для сверки"
   ]
  },
  {
   "cell_type": "code",
   "execution_count": 16,
   "id": "ce4e5af0-3265-4026-a4d6-e24564f29f92",
   "metadata": {},
   "outputs": [
    {
     "name": "stdout",
     "output_type": "stream",
     "text": [
      "+-----+\n",
      "|   id|\n",
      "+-----+\n",
      "|51242|\n",
      "|79723|\n",
      "|95761|\n",
      "|68210|\n",
      "|69674|\n",
      "|67882|\n",
      "|21445|\n",
      "|12658|\n",
      "|12345|\n",
      "|48636|\n",
      "+-----+\n",
      "\n"
     ]
    }
   ],
   "source": [
    "df.dropDuplicates(['id']).select('id').show()"
   ]
  },
  {
   "cell_type": "markdown",
   "id": "f92c9c7f-5242-4f07-997e-9687af34fa79",
   "metadata": {},
   "source": [
    "#### Заносим данные для DataFrame 2"
   ]
  },
  {
   "cell_type": "code",
   "execution_count": 17,
   "id": "35b25268-b284-46fe-9505-81f601b2aafb",
   "metadata": {},
   "outputs": [],
   "source": [
    "data_2 = [\n",
    "    (2344, 51242, \"Aborin M.P\", datetime.strptime('1996-10-12', \"%Y-%m-%d\"), datetime.strptime('2014-06-25', \"%Y-%m-%d\")),\n",
    "    (1242, 79723, \"Krutoi O.M.\", datetime.strptime('1989-03-18', \"%Y-%m-%d\"), datetime.strptime('2015-08-12', \"%Y-%m-%d\")),\n",
    "    (4583, 95761, \"Prostoi A.V.\", datetime.strptime('1985-04-11', \"%Y-%m-%d\"), datetime.strptime('2016-10-01', \"%Y-%m-%d\")),\n",
    "    (6576, 68210, \"Polevaya A.N.\", datetime.strptime('1982-12-09', \"%Y-%m-%d\"), datetime.strptime('2016-04-29', \"%Y-%m-%d\")),\n",
    "    (7519, 69674, \"Krasnaya A.A.\", datetime.strptime('1998-01-10', \"%Y-%m-%d\"), datetime.strptime('2018-02-11', \"%Y-%m-%d\")),\n",
    "    (8124, 67882, \"Reznaya T.M.\", datetime.strptime('2000-03-12', \"%Y-%m-%d\"), datetime.strptime('2021-02-12', \"%Y-%m-%d\")),\n",
    "    (1663, 21445, \"Xoroshyi T.I.\", datetime.strptime('2002-04-18', \"%Y-%m-%d\"), datetime.strptime('2021-04-25', \"%Y-%m-%d\")),\n",
    "    (1056, 12658, \"Serebristaya M.A.\", datetime.strptime('2003-11-23', \"%Y-%m-%d\"), datetime.strptime('2022-11-27', \"%Y-%m-%d\")),\n",
    "    (9860, 12345, \"Molodoyi A.G.\", datetime.strptime('2000-02-27', \"%Y-%m-%d\"), datetime.strptime('2022-06-15', \"%Y-%m-%d\")),\n",
    "    (3558, 48636, \"Molodaya O.V.\", datetime.strptime('2001-03-02', \"%Y-%m-%d\"), datetime.strptime('2022-06-17', \"%Y-%m-%d\"))\n",
    "]\n",
    "\n",
    "df_2 = spark.createDataFrame(data = data_2, schema = schema_2)"
   ]
  },
  {
   "cell_type": "markdown",
   "id": "48df64d4-58f0-4e46-88e2-93b757639ef8",
   "metadata": {},
   "source": [
    "#### Выводим DataFrame 2"
   ]
  },
  {
   "cell_type": "code",
   "execution_count": 18,
   "id": "e2765587-56e2-45e8-b62a-46a630fa6079",
   "metadata": {},
   "outputs": [
    {
     "name": "stdout",
     "output_type": "stream",
     "text": [
      "+-----+-------+-----------------+----------+-----------+\n",
      "|id_pa|id_user|        Full_name|       dob|doc_account|\n",
      "+-----+-------+-----------------+----------+-----------+\n",
      "| 2344|  51242|       Aborin M.P|1996-10-12| 2014-06-25|\n",
      "| 1242|  79723|      Krutoi O.M.|1989-03-18| 2015-08-12|\n",
      "| 4583|  95761|     Prostoi A.V.|1985-04-11| 2016-10-01|\n",
      "| 6576|  68210|    Polevaya A.N.|1982-12-09| 2016-04-29|\n",
      "| 7519|  69674|    Krasnaya A.A.|1998-01-10| 2018-02-11|\n",
      "| 8124|  67882|     Reznaya T.M.|2000-03-12| 2021-02-12|\n",
      "| 1663|  21445|    Xoroshyi T.I.|2002-04-18| 2021-04-25|\n",
      "| 1056|  12658|Serebristaya M.A.|2003-11-23| 2022-11-27|\n",
      "| 9860|  12345|    Molodoyi A.G.|2000-02-27| 2022-06-15|\n",
      "| 3558|  48636|    Molodaya O.V.|2001-03-02| 2022-06-17|\n",
      "+-----+-------+-----------------+----------+-----------+\n",
      "\n"
     ]
    }
   ],
   "source": [
    "df_2.show()"
   ]
  },
  {
   "cell_type": "markdown",
   "id": "73d5c857-d475-4001-a3d7-4304313f05ee",
   "metadata": {},
   "source": [
    "### Проверяем форматы, используемые в схеме_2"
   ]
  },
  {
   "cell_type": "code",
   "execution_count": 19,
   "id": "bc918dd8-3032-455f-b889-5781802d5d1a",
   "metadata": {},
   "outputs": [
    {
     "name": "stdout",
     "output_type": "stream",
     "text": [
      "root\n",
      " |-- id_pa: integer (nullable = true)\n",
      " |-- id_user: integer (nullable = true)\n",
      " |-- Full_name: string (nullable = true)\n",
      " |-- dob: date (nullable = true)\n",
      " |-- doc_account: date (nullable = true)\n",
      "\n"
     ]
    }
   ],
   "source": [
    "df_2.printSchema()"
   ]
  },
  {
   "cell_type": "markdown",
   "id": "5122c97a-c61d-4658-8750-87d395866b70",
   "metadata": {},
   "source": [
    "#### Пункт 7 - Вывести фамилии посетителей, которые читали хотя бы одну новость про спорт."
   ]
  },
  {
   "cell_type": "markdown",
   "id": "fd28ba50-5388-463b-9ca6-2f50da1ddfd7",
   "metadata": {},
   "source": [
    "#### Вспомогательная join табличка (df + df_2)"
   ]
  },
  {
   "cell_type": "code",
   "execution_count": 24,
   "id": "af99144b-bc9f-41fb-b3a0-78bf575327f4",
   "metadata": {},
   "outputs": [
    {
     "name": "stdout",
     "output_type": "stream",
     "text": [
      "+-----+-------------------+------+-------+--------+-----+-----+-------+-----------------+----------+-----------+\n",
      "|   id|          timestamp|  type|page_id|     tag| sign|id_pa|id_user|        Full_name|       dob|doc_account|\n",
      "+-----+-------------------+------+-------+--------+-----+-----+-------+-----------------+----------+-----------+\n",
      "|12345|2022-06-10 02:10:12| click|    111|  policy|false| 9860|  12345|    Molodoyi A.G.|2000-02-27| 2022-06-15|\n",
      "|12345|2022-12-05 12:11:01|scroll|    111|  policy|false| 9860|  12345|    Molodoyi A.G.|2000-02-27| 2022-06-15|\n",
      "|12345|2022-12-07 23:22:50| click|    456|  policy|false| 9860|  12345|    Molodoyi A.G.|2000-02-27| 2022-06-15|\n",
      "|12345|2022-12-11 09:18:22| visit|    111|  policy|false| 9860|  12345|    Molodoyi A.G.|2000-02-27| 2022-06-15|\n",
      "|12658|2021-09-07 23:32:10| click|    456|   sport|false| 1056|  12658|Serebristaya M.A.|2003-11-23| 2022-11-27|\n",
      "|12658|2021-09-08 14:21:00| click|    456|   sport|false| 1056|  12658|Serebristaya M.A.|2003-11-23| 2022-11-27|\n",
      "|21445|2022-03-13 06:15:28|scroll|    123|   sport| true| 1663|  21445|    Xoroshyi T.I.|2002-04-18| 2021-04-25|\n",
      "|48636|2022-11-22 22:36:28| click|    123|medicine|false| 3558|  48636|    Molodaya O.V.|2001-03-02| 2022-06-17|\n",
      "|48636|2022-11-24 21:55:32| click|    456|medicine|false| 3558|  48636|    Molodaya O.V.|2001-03-02| 2022-06-17|\n",
      "|51242|2022-05-10 22:22:59| visit|    456|medicine| true| 2344|  51242|       Aborin M.P|1996-10-12| 2014-06-25|\n",
      "|67882|2020-03-19 09:56:03|  move|    123|  policy|false| 8124|  67882|     Reznaya T.M.|2000-03-12| 2021-02-12|\n",
      "|68210|2021-11-14 15:05:32|  move|    123|   sport|false| 6576|  68210|    Polevaya A.N.|1982-12-09| 2016-04-29|\n",
      "|69674|2020-10-26 01:44:43| visit|    456|  policy| true| 7519|  69674|    Krasnaya A.A.|1998-01-10| 2018-02-11|\n",
      "|69674|2020-10-26 01:58:22|  move|    123|  policy| true| 7519|  69674|    Krasnaya A.A.|1998-01-10| 2018-02-11|\n",
      "|79723|2022-12-05 11:28:11|  move|    111|  policy| true| 1242|  79723|      Krutoi O.M.|1989-03-18| 2015-08-12|\n",
      "|95761|2022-07-12 04:18:06|scroll|    111|  policy| true| 4583|  95761|     Prostoi A.V.|1985-04-11| 2016-10-01|\n",
      "|95761|2022-07-14 06:37:54|  move|    123|  policy| true| 4583|  95761|     Prostoi A.V.|1985-04-11| 2016-10-01|\n",
      "|95761|2022-08-22 06:42:38|  move|    123|  policy| true| 4583|  95761|     Prostoi A.V.|1985-04-11| 2016-10-01|\n",
      "+-----+-------------------+------+-------+--------+-----+-----+-------+-----------------+----------+-----------+\n",
      "\n"
     ]
    }
   ],
   "source": [
    "join_df_df_2 = df.join(df_2, df.id == df_2.id_user, 'inner')\n",
    "join_df_df_2.show()"
   ]
  },
  {
   "cell_type": "code",
   "execution_count": 40,
   "id": "48b8c153-e368-4600-8530-049a1151862a",
   "metadata": {},
   "outputs": [
    {
     "name": "stdout",
     "output_type": "stream",
     "text": [
      "+-----+-----------------+\n",
      "|  tag|        Full_name|\n",
      "+-----+-----------------+\n",
      "|sport|    Polevaya A.N.|\n",
      "|sport|Serebristaya M.A.|\n",
      "|sport|    Xoroshyi T.I.|\n",
      "+-----+-----------------+\n",
      "\n"
     ]
    }
   ],
   "source": [
    "df_g_result = join_df_df_2.select(['tag', 'Full_name']).filter(join_df_df_2.tag == 'sport').dropDuplicates(['Full_name']).show()"
   ]
  },
  {
   "cell_type": "code",
   "execution_count": null,
   "id": "0cb2bd62-088c-4f50-a1fe-36b0e5144f07",
   "metadata": {},
   "outputs": [],
   "source": []
  }
 ],
 "metadata": {
  "kernelspec": {
   "display_name": "Python 3 (ipykernel)",
   "language": "python",
   "name": "python3"
  },
  "language_info": {
   "codemirror_mode": {
    "name": "ipython",
    "version": 3
   },
   "file_extension": ".py",
   "mimetype": "text/x-python",
   "name": "python",
   "nbconvert_exporter": "python",
   "pygments_lexer": "ipython3",
   "version": "3.10.6"
  }
 },
 "nbformat": 4,
 "nbformat_minor": 5
}
